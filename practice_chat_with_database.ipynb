{
  "cells": [
    {
      "cell_type": "code",
      "source": [
        "import sqlite3\n",
        "import time"
      ],
      "metadata": {
        "id": "6ScBlZuJuZPS"
      },
      "execution_count": 15,
      "outputs": []
    },
    {
      "cell_type": "code",
      "source": [
        "# Creating the database\n",
        "connection = sqlite3.connect('prac.db')"
      ],
      "metadata": {
        "id": "fPgkTCqaudvj"
      },
      "execution_count": 5,
      "outputs": []
    },
    {
      "cell_type": "code",
      "source": [
        "connection.execute(\n",
        "    '''CREATE TABLE employee(\n",
        "      id INTEGER PRIMARY KEY AUTOINCREMENT,\n",
        "      name VARCHAR(50),\n",
        "      place VARCHAR(50)\n",
        "          ) '''\n",
        ")\n",
        "connection.commit()"
      ],
      "metadata": {
        "id": "QR4JtNHJvgm7"
      },
      "execution_count": 10,
      "outputs": []
    },
    {
      "cell_type": "code",
      "source": [
        "for i in range(2):\n",
        "  if i == 0:\n",
        "    user1 = input(\"YOU : Enter the name \")\n",
        "    employee_name = user1\n",
        "    print(f'BOT  Hi {employee_name} nice to meet you')\n",
        "  elif i == 1:\n",
        "    user2 = input(\"YOU : Enter the place \")\n",
        "    employee_place = user2\n",
        "    print(f'BOT {employee_place} is a nice place and wonderful sceneries')\n",
        "    time.sleep(2)\n",
        "    print(\"Thank you for responses\")\n",
        "\n",
        "\n",
        "sql_insert_data = '''\n",
        "INSERT INTO employee (name, place) VALUES (?, ?)\n",
        "'''\n",
        "employee_data = (employee_name, employee_place)\n",
        "connection.execute(sql_insert_data, employee_data)\n",
        "connection.commit()\n"
      ],
      "metadata": {
        "colab": {
          "base_uri": "https://localhost:8080/"
        },
        "id": "YmL8SRD9yhTs",
        "outputId": "26752999-8f18-4ea9-ead9-1f5025702930"
      },
      "execution_count": 16,
      "outputs": [
        {
          "output_type": "stream",
          "name": "stdout",
          "text": [
            "YOU : Enter the name NandhaGopal\n",
            "BOT  Hi NandhaGopal nice to meet you\n",
            "YOU : Enter the place Chennai\n",
            "BOT Chennai is a nice place and wonderful sceneries\n",
            "Thank you for responses\n"
          ]
        }
      ]
    },
    {
      "cell_type": "code",
      "source": [
        "data = connection.execute('''SELECT * FROM employee ''')\n",
        "for row in data:\n",
        "  print(row)"
      ],
      "metadata": {
        "colab": {
          "base_uri": "https://localhost:8080/"
        },
        "id": "FKsGPSxUxK0i",
        "outputId": "e27c0ad0-80a7-4fb4-e387-2e1d7fe15f8a"
      },
      "execution_count": 17,
      "outputs": [
        {
          "output_type": "stream",
          "name": "stdout",
          "text": [
            "(1, 'Navin Shrivatsan', 'Chennai')\n",
            "(2, 'NandhaGopal', 'Chennai')\n"
          ]
        }
      ]
    }
  ],
  "metadata": {
    "colab": {
      "provenance": []
    },
    "kernelspec": {
      "display_name": "Python 3",
      "name": "python3"
    },
    "language_info": {
      "name": "python"
    }
  },
  "nbformat": 4,
  "nbformat_minor": 0
}